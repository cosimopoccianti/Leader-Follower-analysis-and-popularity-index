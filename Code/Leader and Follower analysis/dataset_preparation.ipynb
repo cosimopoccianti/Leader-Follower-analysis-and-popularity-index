{
 "cells": [
  {
   "cell_type": "code",
   "execution_count": 1,
   "metadata": {},
   "outputs": [],
   "source": [
    "from pyspark.sql import functions as F\n",
    "from pyspark.sql.functions import *\n",
    "from pyspark.sql import SparkSession"
   ]
  },
  {
   "attachments": {},
   "cell_type": "markdown",
   "metadata": {},
   "source": [
    "# Creating the spark session"
   ]
  },
  {
   "cell_type": "code",
   "execution_count": 2,
   "metadata": {},
   "outputs": [
    {
     "data": {
      "text/html": [
       "\n",
       "            <div>\n",
       "                <p><b>SparkSession - in-memory</b></p>\n",
       "                \n",
       "        <div>\n",
       "            <p><b>SparkContext</b></p>\n",
       "\n",
       "            <p><a href=\"http://PCosimo:4051\">Spark UI</a></p>\n",
       "\n",
       "            <dl>\n",
       "              <dt>Version</dt>\n",
       "                <dd><code>v3.3.0</code></dd>\n",
       "              <dt>Master</dt>\n",
       "                <dd><code>local</code></dd>\n",
       "              <dt>AppName</dt>\n",
       "                <dd><code>Alkemy_task1</code></dd>\n",
       "            </dl>\n",
       "        </div>\n",
       "        \n",
       "            </div>\n",
       "        "
      ],
      "text/plain": [
       "<pyspark.sql.session.SparkSession at 0x1e1b854e380>"
      ]
     },
     "execution_count": 2,
     "metadata": {},
     "output_type": "execute_result"
    }
   ],
   "source": [
    "spark = SparkSession.builder\\\n",
    "        .master(\"local\")\\\n",
    "        .appName(\"Alkemy_task1\")\\\n",
    "        .config('spark.ui.port', '4050')\\\n",
    "        .getOrCreate()\n",
    "\n",
    "spark"
   ]
  },
  {
   "attachments": {},
   "cell_type": "markdown",
   "metadata": {},
   "source": [
    "## Loading and exploration of prices_competitor dataset"
   ]
  },
  {
   "cell_type": "code",
   "execution_count": 3,
   "metadata": {},
   "outputs": [
    {
     "name": "stdout",
     "output_type": "stream",
     "text": [
      "root\n",
      " |-- comp_date: timestamp (nullable = true)\n",
      " |-- seller_id: integer (nullable = true)\n",
      " |-- product_id: integer (nullable = true)\n",
      " |-- price: integer (nullable = true)\n",
      "\n"
     ]
    }
   ],
   "source": [
    "df = spark.read.csv(\"all/prices_competitor.csv\", header=True, inferSchema=True)\n",
    "df.printSchema()"
   ]
  },
  {
   "cell_type": "markdown",
   "metadata": {},
   "source": [
    "Checking number of rows and taking a glance on the dataframe"
   ]
  },
  {
   "cell_type": "code",
   "execution_count": 4,
   "metadata": {},
   "outputs": [
    {
     "name": "stdout",
     "output_type": "stream",
     "text": [
      "Numbers of rows:  8473036\n",
      "+-------------------+---------+----------+-----+\n",
      "|          comp_date|seller_id|product_id|price|\n",
      "+-------------------+---------+----------+-----+\n",
      "|2021-01-01 00:00:00|       23|    110064|27990|\n",
      "|2021-01-01 00:00:00|       24|    110064|27990|\n",
      "|2021-01-01 00:00:00|       26|    110064|27990|\n",
      "|2021-01-01 00:00:00|       41|    110064|27490|\n",
      "|2021-01-01 00:00:00|       48|    110064|27990|\n",
      "|2021-01-01 00:00:00|      180|    110064|28990|\n",
      "|2021-01-01 00:00:00|      407|    110064|28590|\n",
      "|2021-01-01 00:00:00|       24|    151052|10499|\n",
      "|2021-01-01 00:00:00|       26|    151052|10499|\n",
      "|2021-01-01 00:00:00|       48|    151052|11666|\n",
      "+-------------------+---------+----------+-----+\n",
      "only showing top 10 rows\n",
      "\n"
     ]
    }
   ],
   "source": [
    "print(\"Numbers of rows: \", df.count())\n",
    "df.show(10)"
   ]
  },
  {
   "attachments": {},
   "cell_type": "markdown",
   "metadata": {},
   "source": [
    "Some more explorations\n",
    "\n",
    "Check the mean of price, the maximum and the minimum"
   ]
  },
  {
   "cell_type": "code",
   "execution_count": 5,
   "metadata": {},
   "outputs": [
    {
     "name": "stdout",
     "output_type": "stream",
     "text": [
      "+-------+------------------+------------------+------------------+\n",
      "|summary|         seller_id|        product_id|             price|\n",
      "+-------+------------------+------------------+------------------+\n",
      "|  count|           8473036|           8473036|           8473036|\n",
      "|   mean|111.75951606956468|140221.17376852877|18565.406793739578|\n",
      "| stddev| 139.6180774294958|18635.810777512015|25574.826571561833|\n",
      "|    min|                23|            100043|                 0|\n",
      "|    max|               490|            184913|           1040290|\n",
      "+-------+------------------+------------------+------------------+\n",
      "\n",
      "+------------------+\n",
      "|        avg(price)|\n",
      "+------------------+\n",
      "|18565.406793739578|\n",
      "+------------------+\n",
      "\n",
      "+----------+\n",
      "|max(price)|\n",
      "+----------+\n",
      "|   1040290|\n",
      "+----------+\n",
      "\n",
      "+----------+\n",
      "|min(price)|\n",
      "+----------+\n",
      "|         0|\n",
      "+----------+\n",
      "\n"
     ]
    }
   ],
   "source": [
    "df.describe().show()\n",
    "\n",
    "df.agg({'price': 'mean'}).show()\n",
    "df.agg({'price': 'max'}).show()\n",
    "df.agg({'price': 'min'}).show()"
   ]
  },
  {
   "cell_type": "markdown",
   "metadata": {},
   "source": [
    "Taking a look to the average price per product, to familiarise with the data "
   ]
  },
  {
   "cell_type": "code",
   "execution_count": 6,
   "metadata": {},
   "outputs": [
    {
     "name": "stdout",
     "output_type": "stream",
     "text": [
      "+----------+------------------+\n",
      "|product_id|        avg(price)|\n",
      "+----------+------------------+\n",
      "|    122128|10575.842040185471|\n",
      "|    134205|2477.2226613965745|\n",
      "|    139024|2858.0975166565718|\n",
      "|    141533| 3406.744647105472|\n",
      "|    134748| 36847.23794549266|\n",
      "|    133577| 28574.76983503535|\n",
      "|    146224|3917.4110169491523|\n",
      "|    136631|1699.1234662576687|\n",
      "|    144907|  6395.12962962963|\n",
      "|    139747| 46087.40094339623|\n",
      "|    139379|2600.2449592449593|\n",
      "|    142545|15066.153846153846|\n",
      "|    140541|29621.069143067303|\n",
      "|    143737|23410.799708667153|\n",
      "|    143032| 718.8254716981132|\n",
      "|    176809| 4459.459218642906|\n",
      "|    154033| 8001.885190725505|\n",
      "|    154034| 10368.75064935065|\n",
      "|    155042|3721.8970588235293|\n",
      "|    153555| 64377.50558284949|\n",
      "+----------+------------------+\n",
      "only showing top 20 rows\n",
      "\n"
     ]
    }
   ],
   "source": [
    "df.groupBy('product_id').agg({'price': 'mean'}).show()"
   ]
  },
  {
   "cell_type": "markdown",
   "metadata": {},
   "source": [
    "Check if are there null values in the columns"
   ]
  },
  {
   "cell_type": "code",
   "execution_count": 7,
   "metadata": {},
   "outputs": [
    {
     "name": "stdout",
     "output_type": "stream",
     "text": [
      "+---------+---------+----------+-----+\n",
      "|comp_date|seller_id|product_id|price|\n",
      "+---------+---------+----------+-----+\n",
      "|        0|        0|         0|    0|\n",
      "+---------+---------+----------+-----+\n",
      "\n"
     ]
    }
   ],
   "source": [
    "df.select([F.count(F.when(F.isnull(c), c)).alias(c) for c in df.columns]).show()"
   ]
  },
  {
   "attachments": {},
   "cell_type": "markdown",
   "metadata": {},
   "source": [
    "### Check when the price has been changed two time in a day"
   ]
  },
  {
   "cell_type": "markdown",
   "metadata": {},
   "source": [
    "First, we look at the number of unique changes in a day, for a given seller and product"
   ]
  },
  {
   "cell_type": "code",
   "execution_count": 8,
   "metadata": {},
   "outputs": [
    {
     "name": "stdout",
     "output_type": "stream",
     "text": [
      "Number of unique changes of prices in a day: 7927677\n",
      "+-------------------+---------+----------+-----+\n",
      "|comp_date          |seller_id|product_id|price|\n",
      "+-------------------+---------+----------+-----+\n",
      "|2021-01-01 00:00:00|23       |100204    |649  |\n",
      "|2021-01-01 00:00:00|23       |100205    |799  |\n",
      "|2021-01-01 00:00:00|23       |100208    |899  |\n",
      "|2021-01-01 00:00:00|23       |100212    |1299 |\n",
      "|2021-01-01 00:00:00|23       |100405    |2199 |\n",
      "|2021-01-01 00:00:00|23       |100406    |2699 |\n",
      "|2021-01-01 00:00:00|23       |100421    |1599 |\n",
      "|2021-01-01 00:00:00|23       |100594    |999  |\n",
      "|2021-01-01 00:00:00|23       |100608    |299  |\n",
      "|2021-01-01 00:00:00|23       |100612    |999  |\n",
      "|2021-01-01 00:00:00|23       |100621    |1099 |\n",
      "|2021-01-01 00:00:00|23       |100625    |990  |\n",
      "|2021-01-01 00:00:00|23       |100629    |1099 |\n",
      "|2021-01-01 00:00:00|23       |100645    |1699 |\n",
      "|2021-01-01 00:00:00|23       |100651    |359  |\n",
      "|2021-01-01 00:00:00|23       |100658    |259  |\n",
      "|2021-01-01 00:00:00|23       |100802    |899  |\n",
      "|2021-01-01 00:00:00|23       |101074    |299  |\n",
      "|2021-01-01 00:00:00|23       |101767    |1499 |\n",
      "|2021-01-01 00:00:00|23       |102187    |349  |\n",
      "+-------------------+---------+----------+-----+\n",
      "only showing top 20 rows\n",
      "\n"
     ]
    }
   ],
   "source": [
    "dropDisDF = df.dropDuplicates([\"comp_date\",\"seller_id\",\"product_id\"])\n",
    "print(\"Number of unique changes of prices in a day: \"+str(dropDisDF.count()))\n",
    "dropDisDF.show(truncate=False)"
   ]
  },
  {
   "cell_type": "markdown",
   "metadata": {},
   "source": [
    "Then we analyse which are the duplicated changes"
   ]
  },
  {
   "cell_type": "code",
   "execution_count": 9,
   "metadata": {},
   "outputs": [
    {
     "name": "stdout",
     "output_type": "stream",
     "text": [
      "The number of time prices have been changed more than one time per day: 535362\n",
      "List of duplicated changes:\n",
      "+-------------------+---------+----------+\n",
      "|          comp_date|seller_id|product_id|\n",
      "+-------------------+---------+----------+\n",
      "|2021-01-01 00:00:00|       24|    143732|\n",
      "|2021-01-01 00:00:00|       24|    143736|\n",
      "|2021-01-01 00:00:00|       24|    143737|\n",
      "|2021-01-01 00:00:00|       24|    143738|\n",
      "|2021-01-01 00:00:00|       24|    143739|\n",
      "|2021-01-01 00:00:00|       24|    143809|\n",
      "|2021-01-01 00:00:00|       24|    143832|\n",
      "|2021-01-01 00:00:00|       24|    143836|\n",
      "|2021-01-01 00:00:00|       24|    143865|\n",
      "|2021-01-01 00:00:00|       24|    143914|\n",
      "|2021-01-01 00:00:00|       24|    143928|\n",
      "|2021-01-01 00:00:00|       24|    143941|\n",
      "|2021-01-01 00:00:00|       24|    144054|\n",
      "|2021-01-01 00:00:00|       24|    144113|\n",
      "|2021-01-01 00:00:00|       24|    144119|\n",
      "|2021-01-01 00:00:00|       24|    144194|\n",
      "|2021-01-01 00:00:00|       24|    144603|\n",
      "|2021-01-01 00:00:00|       24|    144604|\n",
      "|2021-01-01 00:00:00|       24|    144605|\n",
      "|2021-01-01 00:00:00|       24|    144677|\n",
      "+-------------------+---------+----------+\n",
      "only showing top 20 rows\n",
      "\n"
     ]
    }
   ],
   "source": [
    "df1=df.groupBy(\"comp_date\",\"seller_id\",\"product_id\").count().filter(\"count > 1\")\n",
    "print(f'The number of time prices have been changed more than one time per day: {df1.count()}')\n",
    "print('List of duplicated changes:')\n",
    "df1.drop('count').show()"
   ]
  },
  {
   "cell_type": "markdown",
   "metadata": {},
   "source": [
    "We can, for istance, check that, for the first element of the above list, the price was effectively updated two time in a day"
   ]
  },
  {
   "cell_type": "code",
   "execution_count": 10,
   "metadata": {},
   "outputs": [
    {
     "name": "stdout",
     "output_type": "stream",
     "text": [
      "+-------------------+---------+----------+-----+\n",
      "|          comp_date|seller_id|product_id|price|\n",
      "+-------------------+---------+----------+-----+\n",
      "|2021-01-01 00:00:00|       24|    143732|21327|\n",
      "|2021-01-01 00:00:00|       24|    143732|23105|\n",
      "+-------------------+---------+----------+-----+\n",
      "\n"
     ]
    }
   ],
   "source": [
    "df.filter((df.comp_date=='2021-01-01') & (df.seller_id==24) & (df.product_id==143732)).show()"
   ]
  },
  {
   "attachments": {},
   "cell_type": "markdown",
   "metadata": {},
   "source": [
    "Now we have dropDisDF that has no duplicated values"
   ]
  },
  {
   "cell_type": "markdown",
   "metadata": {},
   "source": [
    "Checking the number of rows in which the price is 0"
   ]
  },
  {
   "cell_type": "code",
   "execution_count": 11,
   "metadata": {},
   "outputs": [
    {
     "name": "stdout",
     "output_type": "stream",
     "text": [
      "+---------------------------------------+\n",
      "|count(CASE WHEN (price = 0) THEN 1 END)|\n",
      "+---------------------------------------+\n",
      "|                                      5|\n",
      "+---------------------------------------+\n",
      "\n"
     ]
    }
   ],
   "source": [
    "dropDisDF.select(F.count(F.when(dropDisDF['price'] == 0, 1))).show()"
   ]
  },
  {
   "cell_type": "markdown",
   "metadata": {},
   "source": [
    "Removing the rows with a 0 in price values"
   ]
  },
  {
   "cell_type": "code",
   "execution_count": 12,
   "metadata": {},
   "outputs": [
    {
     "name": "stdout",
     "output_type": "stream",
     "text": [
      "Number of rows remaining after the manipulations 7927672\n"
     ]
    }
   ],
   "source": [
    "df_filtered = dropDisDF.filter(dropDisDF.price != 0)\n",
    "print(f'Number of rows remaining after the manipulations {df_filtered.count()}')"
   ]
  },
  {
   "cell_type": "markdown",
   "metadata": {},
   "source": [
    "### Find min and max price for each product on all the year"
   ]
  },
  {
   "cell_type": "markdown",
   "metadata": {},
   "source": [
    "Grouping by product to find the maximum and minimum price, the joining the price max and min to the price_competitors dataset"
   ]
  },
  {
   "cell_type": "code",
   "execution_count": 13,
   "metadata": {},
   "outputs": [
    {
     "name": "stdout",
     "output_type": "stream",
     "text": [
      "+-------------------+---------+----------+-----+----------+----------+\n",
      "|          comp_date|seller_id|product_id|price|max(price)|min(price)|\n",
      "+-------------------+---------+----------+-----+----------+----------+\n",
      "|2021-01-01 00:00:00|       23|    100612|  999|       999|       613|\n",
      "|2021-01-01 00:00:00|       23|    100625|  990|     79300|       793|\n",
      "|2021-01-01 00:00:00|       23|    101767| 1499|      2590|      1392|\n",
      "|2021-01-01 00:00:00|       23|    100802|  899|      1090|       629|\n",
      "|2021-01-01 00:00:00|       23|    100212| 1299|      1832|      1283|\n",
      "|2021-01-01 00:00:00|       23|    100645| 1699|      1699|      1199|\n",
      "|2021-01-01 00:00:00|       23|    100421| 1599|      2090|      1313|\n",
      "|2021-01-01 00:00:00|       23|    100629| 1099|      1099|       690|\n",
      "|2021-01-01 00:00:00|       23|    100658|  259|       259|       133|\n",
      "|2021-01-01 00:00:00|       23|    102187|  349|       349|       169|\n",
      "|2021-01-01 00:00:00|       23|    100204|  649|       667|       467|\n",
      "|2021-01-01 00:00:00|       23|    101074|  299|       302|       132|\n",
      "|2021-01-01 00:00:00|       23|    100608|  299|      2969|       111|\n",
      "|2021-01-01 00:00:00|       23|    102189|  599|       599|       311|\n",
      "|2021-01-01 00:00:00|       23|    100405| 2199|      2590|      1866|\n",
      "|2021-01-01 00:00:00|       23|    100594|  999|      1190|       785|\n",
      "|2021-01-01 00:00:00|       23|    100406| 2699|      2699|      1769|\n",
      "|2021-01-01 00:00:00|       23|    100621| 1099|      1290|       890|\n",
      "|2021-01-01 00:00:00|       23|    100651|  359|       399|       259|\n",
      "|2021-01-01 00:00:00|       23|    100208|  899|      1221|       855|\n",
      "+-------------------+---------+----------+-----+----------+----------+\n",
      "only showing top 20 rows\n",
      "\n"
     ]
    }
   ],
   "source": [
    "maxi = df_filtered.groupBy(\"product_id\").agg(F.max(\"price\"))\n",
    "maxi = maxi.withColumnRenamed('product_id', 'product_id_max')\n",
    "mini = df_filtered.groupBy(\"product_id\").agg(F.min(\"price\"))\n",
    "mini = mini.withColumnRenamed('product_id', 'product_id_min')\n",
    "joined1_df = df_filtered.join(maxi, df_filtered.product_id == maxi.product_id_max, \"left\").drop(maxi.product_id_max)\n",
    "joined_df = joined1_df.join(mini, joined1_df.product_id == mini.product_id_min, \"left\").drop(mini.product_id_min)\n",
    "joined_df.write.mode(\"overwrite\").format(\"noop\").save()\n",
    "joined_df.show()"
   ]
  },
  {
   "cell_type": "markdown",
   "metadata": {},
   "source": [
    "### Checking if in the price_competitor dataset there are products that are not selled by the seller 24 "
   ]
  },
  {
   "cell_type": "markdown",
   "metadata": {},
   "source": [
    "Loading the sales_data dataset"
   ]
  },
  {
   "cell_type": "code",
   "execution_count": 14,
   "metadata": {},
   "outputs": [
    {
     "name": "stdout",
     "output_type": "stream",
     "text": [
      "root\n",
      " |-- sale_date: timestamp (nullable = true)\n",
      " |-- product_id: integer (nullable = true)\n",
      " |-- quantity: integer (nullable = true)\n",
      " |-- sales_price_tax: double (nullable = true)\n",
      " |-- regular_price_tax: double (nullable = true)\n",
      " |-- sales_price: double (nullable = true)\n",
      " |-- regular_price: double (nullable = true)\n",
      " |-- purchase_price: double (nullable = true)\n",
      "\n"
     ]
    }
   ],
   "source": [
    "sales = spark.read.csv(\"all/sales_data.csv\", header=True, inferSchema=True)\n",
    "sales.printSchema()"
   ]
  },
  {
   "cell_type": "markdown",
   "metadata": {},
   "source": [
    "Getting the unique product_id values from sales_data dataset"
   ]
  },
  {
   "cell_type": "code",
   "execution_count": 15,
   "metadata": {},
   "outputs": [
    {
     "name": "stdout",
     "output_type": "stream",
     "text": [
      "Number of sales_data rows:  119125\n",
      "Number of unique products:  7529\n"
     ]
    }
   ],
   "source": [
    "un_prod = sales.select('product_id').distinct()\n",
    "print(\"Number of sales_data rows: \", sales.count())\n",
    "print(\"Number of unique products: \", un_prod.count())"
   ]
  },
  {
   "cell_type": "markdown",
   "metadata": {},
   "source": [
    "Getting the unique product_id values from price_competitor dataset"
   ]
  },
  {
   "cell_type": "code",
   "execution_count": 16,
   "metadata": {},
   "outputs": [
    {
     "name": "stdout",
     "output_type": "stream",
     "text": [
      "Number of unique products in price_competitor: 6461\n"
     ]
    }
   ],
   "source": [
    "un_prod_comp = joined_df.select('product_id').distinct()\n",
    "print('Number of unique products in price_competitor:', un_prod_comp.dropDuplicates(['product_id']).count())"
   ]
  },
  {
   "cell_type": "markdown",
   "metadata": {},
   "source": [
    "The number of product liste din sales_data is higher than the number in price_competitor, but we check anyway if there are products in price-competitor that do no belong even to sales_data"
   ]
  },
  {
   "cell_type": "markdown",
   "metadata": {},
   "source": [
    "Taking the list of differrent products in sales data"
   ]
  },
  {
   "cell_type": "code",
   "execution_count": 17,
   "metadata": {},
   "outputs": [],
   "source": [
    "prods = [i[0] for i in un_prod.select('product_id').collect()]"
   ]
  },
  {
   "cell_type": "markdown",
   "metadata": {},
   "source": [
    "Checking if there are products in price_competitor that are not in sales_data, so are not selled by 24 "
   ]
  },
  {
   "cell_type": "code",
   "execution_count": 18,
   "metadata": {},
   "outputs": [
    {
     "name": "stdout",
     "output_type": "stream",
     "text": [
      "+-------------------+---------+----------+-----+----------+----------+\n",
      "|          comp_date|seller_id|product_id|price|max(price)|min(price)|\n",
      "+-------------------+---------+----------+-----+----------+----------+\n",
      "|2021-01-01 00:00:00|       23|    100612|  999|       999|       613|\n",
      "|2021-01-01 00:00:00|       23|    100625|  990|     79300|       793|\n",
      "|2021-01-01 00:00:00|       23|    101767| 1499|      2590|      1392|\n",
      "|2021-01-01 00:00:00|       23|    100802|  899|      1090|       629|\n",
      "|2021-01-01 00:00:00|       23|    100212| 1299|      1832|      1283|\n",
      "|2021-01-01 00:00:00|       23|    100645| 1699|      1699|      1199|\n",
      "|2021-01-01 00:00:00|       23|    100421| 1599|      2090|      1313|\n",
      "|2021-01-01 00:00:00|       23|    100629| 1099|      1099|       690|\n",
      "|2021-01-01 00:00:00|       23|    100658|  259|       259|       133|\n",
      "|2021-01-01 00:00:00|       23|    102187|  349|       349|       169|\n",
      "|2021-01-01 00:00:00|       23|    100204|  649|       667|       467|\n",
      "|2021-01-01 00:00:00|       23|    101074|  299|       302|       132|\n",
      "|2021-01-01 00:00:00|       23|    100608|  299|      2969|       111|\n",
      "|2021-01-01 00:00:00|       23|    102189|  599|       599|       311|\n",
      "|2021-01-01 00:00:00|       23|    100405| 2199|      2590|      1866|\n",
      "|2021-01-01 00:00:00|       23|    100594|  999|      1190|       785|\n",
      "|2021-01-01 00:00:00|       23|    100406| 2699|      2699|      1769|\n",
      "|2021-01-01 00:00:00|       23|    100621| 1099|      1290|       890|\n",
      "|2021-01-01 00:00:00|       23|    100651|  359|       399|       259|\n",
      "|2021-01-01 00:00:00|       23|    100208|  899|      1221|       855|\n",
      "+-------------------+---------+----------+-----+----------+----------+\n",
      "only showing top 20 rows\n",
      "\n"
     ]
    }
   ],
   "source": [
    "reduced = joined_df.where(joined_df['product_id'].isin(prods))\n",
    "reduced.show()"
   ]
  },
  {
   "cell_type": "code",
   "execution_count": 19,
   "metadata": {},
   "outputs": [
    {
     "name": "stdout",
     "output_type": "stream",
     "text": [
      "Numbers of rows:  7927672\n"
     ]
    }
   ],
   "source": [
    "print(\"Numbers of rows: \", reduced.count())"
   ]
  },
  {
   "cell_type": "code",
   "execution_count": 22,
   "metadata": {},
   "outputs": [
    {
     "name": "stdout",
     "output_type": "stream",
     "text": [
      "Number of unique products in price_competitor: 6461\n"
     ]
    }
   ],
   "source": [
    "print('Number of unique products in price_competitor:', reduced.select('product_id').distinct().count())"
   ]
  },
  {
   "cell_type": "markdown",
   "metadata": {},
   "source": [
    "Since there are no changes both in the number of rows and in the number of unique products all the products selled in price_competitor are selled also by the seller 24 between the others"
   ]
  },
  {
   "cell_type": "markdown",
   "metadata": {},
   "source": [
    "### product_catalog load and join with price_competitor"
   ]
  },
  {
   "cell_type": "code",
   "execution_count": 23,
   "metadata": {},
   "outputs": [
    {
     "name": "stdout",
     "output_type": "stream",
     "text": [
      "+----------+----------+----------+----------+-----------+\n",
      "|product_id|coded_cat1|coded_cat2|coded_cat3|coded_brand|\n",
      "+----------+----------+----------+----------+-----------+\n",
      "|    109844|      1776|      1504|       732|        367|\n",
      "|    119374|      1776|      1504|       732|        367|\n",
      "|    131012|      1776|      1504|      1907|        367|\n",
      "|    131031|      1776|      1504|      1907|        367|\n",
      "|    131306|      1776|      1504|      1907|        213|\n",
      "|    131060|      1776|      1504|      1907|        367|\n",
      "|    131061|      1776|      1504|      1907|        367|\n",
      "|    141568|      1776|      1504|      1907|        513|\n",
      "|    141570|      1776|      1504|      1907|        513|\n",
      "|    141556|      1776|      1504|      2183|        513|\n",
      "|    141558|      1776|      1504|      2183|        513|\n",
      "|    141774|      1776|      1504|      2183|        513|\n",
      "|    141700|      1776|      1504|      1621|        513|\n",
      "|    141735|      1776|      1504|      1907|        513|\n",
      "|    141642|      1776|      1504|      3721|        513|\n",
      "|    141714|      1776|      1504|      1621|        513|\n",
      "|    141716|      1776|      1504|      1621|        513|\n",
      "|    141728|      1776|      1504|      1621|        513|\n",
      "|    141748|      1776|      1504|      4533|        513|\n",
      "|    141773|      1776|      1504|      4533|        513|\n",
      "+----------+----------+----------+----------+-----------+\n",
      "only showing top 20 rows\n",
      "\n"
     ]
    }
   ],
   "source": [
    "products = spark.read.csv(\"all/product_catalog.csv\", header=True, inferSchema=True)\n",
    "products = products.drop('coded_name')\n",
    "products.show()"
   ]
  },
  {
   "cell_type": "markdown",
   "metadata": {},
   "source": [
    "Join the products category dataset with the one created before: containing price min and max for each product"
   ]
  },
  {
   "cell_type": "code",
   "execution_count": 24,
   "metadata": {},
   "outputs": [
    {
     "name": "stdout",
     "output_type": "stream",
     "text": [
      "+-------------------+---------+----------+-----+----------+----------+----------+----------+----------+-----------+\n",
      "|          comp_date|seller_id|product_id|price|max(price)|min(price)|coded_cat1|coded_cat2|coded_cat3|coded_brand|\n",
      "+-------------------+---------+----------+-----+----------+----------+----------+----------+----------+-----------+\n",
      "|2021-01-01 00:00:00|       23|    100612|  999|       999|       613|      1375|      1760|      1348|        279|\n",
      "|2021-01-01 00:00:00|       23|    100625|  990|     79300|       793|      1375|      1564|       489|        279|\n",
      "|2021-01-01 00:00:00|       23|    101767| 1499|      2590|      1392|      1375|      1564|      2715|        279|\n",
      "|2021-01-01 00:00:00|       23|    100802|  899|      1090|       629|      1375|      2519|      1338|        279|\n",
      "|2021-01-01 00:00:00|       23|    100212| 1299|      1832|      1283|      1163|      1267|      4325|        445|\n",
      "|2021-01-01 00:00:00|       23|    100645| 1699|      1699|      1199|      1375|      1760|      1348|        279|\n",
      "|2021-01-01 00:00:00|       23|    100421| 1599|      2090|      1313|      1375|      1760|      1410|        279|\n",
      "|2021-01-01 00:00:00|       23|    100629| 1099|      1099|       690|      1375|      1564|       489|        279|\n",
      "|2021-01-01 00:00:00|       23|    100658|  259|       259|       133|      1375|      1760|      1195|        279|\n",
      "|2021-01-01 00:00:00|       23|    102187|  349|       349|       169|      1375|      1564|      1912|        279|\n",
      "|2021-01-01 00:00:00|       23|    100204|  649|       667|       467|      1163|      1267|      4325|        445|\n",
      "|2021-01-01 00:00:00|       23|    101074|  299|       302|       132|      1375|      1564|      1912|        279|\n",
      "|2021-01-01 00:00:00|       23|    100608|  299|      2969|       111|      1375|      1760|      1348|        279|\n",
      "|2021-01-01 00:00:00|       23|    102189|  599|       599|       311|      1375|      1760|      1348|        279|\n",
      "|2021-01-01 00:00:00|       23|    100405| 2199|      2590|      1866|      1375|      1760|      1410|        279|\n",
      "|2021-01-01 00:00:00|       23|    100594|  999|      1190|       785|      1375|      1760|      1410|        279|\n",
      "|2021-01-01 00:00:00|       23|    100406| 2699|      2699|      1769|      1375|      1760|      1410|        279|\n",
      "|2021-01-01 00:00:00|       23|    100621| 1099|      1290|       890|      1375|      1564|      2113|        279|\n",
      "|2021-01-01 00:00:00|       23|    100651|  359|       399|       259|      1375|      1760|      1348|        279|\n",
      "|2021-01-01 00:00:00|       23|    100208|  899|      1221|       855|      1163|      1267|      4325|        445|\n",
      "+-------------------+---------+----------+-----+----------+----------+----------+----------+----------+-----------+\n",
      "only showing top 20 rows\n",
      "\n"
     ]
    }
   ],
   "source": [
    "united = reduced.join(products, reduced.product_id == products.product_id, \"left\").drop(products.product_id)\n",
    "united.show()"
   ]
  },
  {
   "cell_type": "markdown",
   "metadata": {},
   "source": [
    "### Adding seller name to the dataset"
   ]
  },
  {
   "cell_type": "code",
   "execution_count": 25,
   "metadata": {},
   "outputs": [
    {
     "name": "stdout",
     "output_type": "stream",
     "text": [
      "+---------+-----------+\n",
      "|seller_id|seller_name|\n",
      "+---------+-----------+\n",
      "|       48|          F|\n",
      "|      180|          B|\n",
      "|       24|          G|\n",
      "|       41|          I|\n",
      "|       26|          H|\n",
      "|      490|          L|\n",
      "|      188|          E|\n",
      "|      407|          D|\n",
      "|       23|          C|\n",
      "+---------+-----------+\n",
      "\n"
     ]
    }
   ],
   "source": [
    "sellers = spark.read.csv(\"all/sellers_list.csv\", header=True, inferSchema=True)\n",
    "sellers.show()"
   ]
  },
  {
   "cell_type": "code",
   "execution_count": 26,
   "metadata": {},
   "outputs": [
    {
     "name": "stdout",
     "output_type": "stream",
     "text": [
      "+----------+---------+-----------+----------+-----+----------+----------+----------+----------+----------+-----------+\n",
      "|      date|seller_id|seller_name|product_id|price|min(price)|max(price)|coded_cat1|coded_cat2|coded_cat3|coded_brand|\n",
      "+----------+---------+-----------+----------+-----+----------+----------+----------+----------+----------+-----------+\n",
      "|2021-01-01|       23|          C|    100612|  999|       613|       999|      1375|      1760|      1348|        279|\n",
      "|2021-01-01|       23|          C|    100625|  990|       793|     79300|      1375|      1564|       489|        279|\n",
      "|2021-01-01|       23|          C|    101767| 1499|      1392|      2590|      1375|      1564|      2715|        279|\n",
      "|2021-01-01|       23|          C|    100802|  899|       629|      1090|      1375|      2519|      1338|        279|\n",
      "|2021-01-01|       23|          C|    100212| 1299|      1283|      1832|      1163|      1267|      4325|        445|\n",
      "|2021-01-01|       23|          C|    100645| 1699|      1199|      1699|      1375|      1760|      1348|        279|\n",
      "|2021-01-01|       23|          C|    100421| 1599|      1313|      2090|      1375|      1760|      1410|        279|\n",
      "|2021-01-01|       23|          C|    100629| 1099|       690|      1099|      1375|      1564|       489|        279|\n",
      "|2021-01-01|       23|          C|    100658|  259|       133|       259|      1375|      1760|      1195|        279|\n",
      "|2021-01-01|       23|          C|    102187|  349|       169|       349|      1375|      1564|      1912|        279|\n",
      "|2021-01-01|       23|          C|    100204|  649|       467|       667|      1163|      1267|      4325|        445|\n",
      "|2021-01-01|       23|          C|    101074|  299|       132|       302|      1375|      1564|      1912|        279|\n",
      "|2021-01-01|       23|          C|    100608|  299|       111|      2969|      1375|      1760|      1348|        279|\n",
      "|2021-01-01|       23|          C|    102189|  599|       311|       599|      1375|      1760|      1348|        279|\n",
      "|2021-01-01|       23|          C|    100405| 2199|      1866|      2590|      1375|      1760|      1410|        279|\n",
      "|2021-01-01|       23|          C|    100594|  999|       785|      1190|      1375|      1760|      1410|        279|\n",
      "|2021-01-01|       23|          C|    100406| 2699|      1769|      2699|      1375|      1760|      1410|        279|\n",
      "|2021-01-01|       23|          C|    100621| 1099|       890|      1290|      1375|      1564|      2113|        279|\n",
      "|2021-01-01|       23|          C|    100651|  359|       259|       399|      1375|      1760|      1348|        279|\n",
      "|2021-01-01|       23|          C|    100208|  899|       855|      1221|      1163|      1267|      4325|        445|\n",
      "+----------+---------+-----------+----------+-----+----------+----------+----------+----------+----------+-----------+\n",
      "only showing top 20 rows\n",
      "\n"
     ]
    }
   ],
   "source": [
    "final = united.join(sellers, united.seller_id == sellers.seller_id, \"left\").drop(sellers.seller_id)\n",
    "final = final.withColumn(\"date\",to_date(col(\"comp_date\"))).drop('comp_date')\n",
    "final = final.select('date','seller_id','seller_name','product_id','price','min(price)','max(price)','coded_cat1','coded_cat2','coded_cat3','coded_brand')\n",
    "final.show()"
   ]
  },
  {
   "cell_type": "code",
   "execution_count": 27,
   "metadata": {},
   "outputs": [],
   "source": [
    "#final.coalesce(1).write.csv('joined', mode='overwrite', sep='\\t', header=True)\n",
    "#final = spark.read.csv('joined', sep = '\\t',header=True, inferSchema=True)"
   ]
  },
  {
   "cell_type": "code",
   "execution_count": 28,
   "metadata": {},
   "outputs": [
    {
     "name": "stdout",
     "output_type": "stream",
     "text": [
      "+----------+---------+-----------+----------+-----+----------+----------+----------+----------+----------+-----------+\n",
      "| comp_date|seller_id|seller_name|product_id|price|min(price)|max(price)|coded_cat1|coded_cat2|coded_cat3|coded_brand|\n",
      "+----------+---------+-----------+----------+-----+----------+----------+----------+----------+----------+-----------+\n",
      "|2021-01-01|       23|          C|    100204|  649|       467|       667|      1163|      1267|      4325|        445|\n",
      "|2021-01-01|       23|          C|    100205|  799|       723|       930|      1163|      1267|      4325|        445|\n",
      "|2021-01-01|       23|          C|    100208|  899|       855|      1221|      1163|      1267|      4325|        445|\n",
      "|2021-01-01|       23|          C|    100212| 1299|      1283|      1832|      1163|      1267|      4325|        445|\n",
      "|2021-01-01|       23|          C|    100404| 1299|      1095|      1590|      1375|      1760|      1410|        279|\n",
      "|2021-01-01|       23|          C|    100405| 2199|      1866|      2590|      1375|      1760|      1410|        279|\n",
      "|2021-01-01|       23|          C|    100406| 2699|      1769|      2699|      1375|      1760|      1410|        279|\n",
      "|2021-01-01|       23|          C|    100409| 4290|      3644|      5190|      1375|      1760|      1410|        279|\n",
      "|2021-01-01|       23|          C|    100421| 1599|      1313|      2090|      1375|      1760|      1410|        279|\n",
      "|2021-01-01|       23|          C|    100426| 1789|      1324|      1999|      1163|      1267|      4325|        279|\n",
      "|2021-01-01|       23|          C|    100594|  999|       785|      1190|      1375|      1760|      1410|        279|\n",
      "|2021-01-01|       23|          C|    100608|  299|       111|      2969|      1375|      1760|      1348|        279|\n",
      "|2021-01-01|       23|          C|    100611|  699|       347|       699|      1375|      1760|      1348|        279|\n",
      "|2021-01-01|       23|          C|    100612|  999|       613|       999|      1375|      1760|      1348|        279|\n",
      "|2021-01-01|       23|          C|    100621| 1099|       890|      1290|      1375|      1564|      2113|        279|\n",
      "|2021-01-01|       23|          C|    100625|  990|       793|     79300|      1375|      1564|       489|        279|\n",
      "|2021-01-01|       23|          C|    100629| 1099|       690|      1099|      1375|      1564|       489|        279|\n",
      "|2021-01-01|       23|          C|    100633|  899|       790|       999|      1375|      1760|      1195|        279|\n",
      "|2021-01-01|       23|          C|    100645| 1699|      1199|      1699|      1375|      1760|      1348|        279|\n",
      "|2021-01-01|       23|          C|    100651|  359|       259|       399|      1375|      1760|      1348|        279|\n",
      "+----------+---------+-----------+----------+-----+----------+----------+----------+----------+----------+-----------+\n",
      "only showing top 20 rows\n",
      "\n"
     ]
    }
   ],
   "source": [
    "final = final.withColumn('comp_date', to_date('date')).drop('date')\n",
    "final = final.select('comp_date','seller_id','seller_name','product_id','price','min(price)','max(price)','coded_cat1','coded_cat2','coded_cat3','coded_brand')\n",
    "final = final.orderBy('comp_date', 'seller_id', 'product_id')\n",
    "final.show()"
   ]
  },
  {
   "cell_type": "code",
   "execution_count": 29,
   "metadata": {},
   "outputs": [
    {
     "data": {
      "text/plain": [
       "7927672"
      ]
     },
     "execution_count": 29,
     "metadata": {},
     "output_type": "execute_result"
    }
   ],
   "source": [
    "final.count()"
   ]
  },
  {
   "cell_type": "code",
   "execution_count": 30,
   "metadata": {},
   "outputs": [
    {
     "name": "stdout",
     "output_type": "stream",
     "text": [
      "root\n",
      " |-- comp_date: date (nullable = true)\n",
      " |-- seller_id: integer (nullable = true)\n",
      " |-- seller_name: string (nullable = true)\n",
      " |-- product_id: integer (nullable = true)\n",
      " |-- price: integer (nullable = true)\n",
      " |-- min(price): integer (nullable = true)\n",
      " |-- max(price): integer (nullable = true)\n",
      " |-- coded_cat1: integer (nullable = true)\n",
      " |-- coded_cat2: integer (nullable = true)\n",
      " |-- coded_cat3: integer (nullable = true)\n",
      " |-- coded_brand: integer (nullable = true)\n",
      "\n"
     ]
    }
   ],
   "source": [
    "final.printSchema()"
   ]
  },
  {
   "cell_type": "markdown",
   "metadata": {},
   "source": [
    "## Splitting the dataset in quarter and one split only for november 2021"
   ]
  },
  {
   "cell_type": "code",
   "execution_count": 31,
   "metadata": {},
   "outputs": [],
   "source": [
    "first = final.filter(final.comp_date <= '2021-03-31')\n",
    "second = final.filter((final.comp_date >= '2021-04-01') & (final.comp_date <= '2021-06-30'))\n",
    "third = final.filter((final.comp_date >= '2021-07-01') & (final.comp_date <= '2021-09-30'))\n",
    "fourth = final.filter(final.comp_date >= '2021-10-01')\n",
    "november = final.filter((final.comp_date >= '2021-11-01') & (final.comp_date <= '2021-11-30'))"
   ]
  },
  {
   "cell_type": "code",
   "execution_count": 32,
   "metadata": {},
   "outputs": [
    {
     "name": "stdout",
     "output_type": "stream",
     "text": [
      "+----------+---------+-----------+----------+-----+----------+----------+----------+----------+----------+-----------+\n",
      "| comp_date|seller_id|seller_name|product_id|price|min(price)|max(price)|coded_cat1|coded_cat2|coded_cat3|coded_brand|\n",
      "+----------+---------+-----------+----------+-----+----------+----------+----------+----------+----------+-----------+\n",
      "|2021-01-01|       23|          C|    100204|  649|       467|       667|      1163|      1267|      4325|        445|\n",
      "|2021-01-01|       23|          C|    100205|  799|       723|       930|      1163|      1267|      4325|        445|\n",
      "|2021-01-01|       23|          C|    100208|  899|       855|      1221|      1163|      1267|      4325|        445|\n",
      "|2021-01-01|       23|          C|    100212| 1299|      1283|      1832|      1163|      1267|      4325|        445|\n",
      "|2021-01-01|       23|          C|    100404| 1299|      1095|      1590|      1375|      1760|      1410|        279|\n",
      "|2021-01-01|       23|          C|    100405| 2199|      1866|      2590|      1375|      1760|      1410|        279|\n",
      "|2021-01-01|       23|          C|    100406| 2699|      1769|      2699|      1375|      1760|      1410|        279|\n",
      "|2021-01-01|       23|          C|    100409| 4290|      3644|      5190|      1375|      1760|      1410|        279|\n",
      "|2021-01-01|       23|          C|    100421| 1599|      1313|      2090|      1375|      1760|      1410|        279|\n",
      "|2021-01-01|       23|          C|    100426| 1789|      1324|      1999|      1163|      1267|      4325|        279|\n",
      "+----------+---------+-----------+----------+-----+----------+----------+----------+----------+----------+-----------+\n",
      "only showing top 10 rows\n",
      "\n"
     ]
    }
   ],
   "source": [
    "first.show(10)"
   ]
  },
  {
   "cell_type": "code",
   "execution_count": 33,
   "metadata": {},
   "outputs": [
    {
     "name": "stdout",
     "output_type": "stream",
     "text": [
      "+----------+---------+-----------+----------+-----+----------+----------+----------+----------+----------+-----------+\n",
      "| comp_date|seller_id|seller_name|product_id|price|min(price)|max(price)|coded_cat1|coded_cat2|coded_cat3|coded_brand|\n",
      "+----------+---------+-----------+----------+-----+----------+----------+----------+----------+----------+-----------+\n",
      "|2021-04-01|       23|          C|    100204|  649|       467|       667|      1163|      1267|      4325|        445|\n",
      "|2021-04-01|       23|          C|    100205|  799|       723|       930|      1163|      1267|      4325|        445|\n",
      "|2021-04-01|       23|          C|    100212| 1299|      1283|      1832|      1163|      1267|      4325|        445|\n",
      "|2021-04-01|       23|          C|    100404| 1299|      1095|      1590|      1375|      1760|      1410|        279|\n",
      "|2021-04-01|       23|          C|    100405| 2199|      1866|      2590|      1375|      1760|      1410|        279|\n",
      "|2021-04-01|       23|          C|    100406| 2699|      1769|      2699|      1375|      1760|      1410|        279|\n",
      "|2021-04-01|       23|          C|    100409| 4290|      3644|      5190|      1375|      1760|      1410|        279|\n",
      "|2021-04-01|       23|          C|    100421| 1599|      1313|      2090|      1375|      1760|      1410|        279|\n",
      "|2021-04-01|       23|          C|    100426| 1789|      1324|      1999|      1163|      1267|      4325|        279|\n",
      "|2021-04-01|       23|          C|    100594|  999|       785|      1190|      1375|      1760|      1410|        279|\n",
      "|2021-04-01|       23|          C|    100608|  299|       111|      2969|      1375|      1760|      1348|        279|\n",
      "|2021-04-01|       23|          C|    100611|  699|       347|       699|      1375|      1760|      1348|        279|\n",
      "|2021-04-01|       23|          C|    100612|  999|       613|       999|      1375|      1760|      1348|        279|\n",
      "|2021-04-01|       23|          C|    100621| 1099|       890|      1290|      1375|      1564|      2113|        279|\n",
      "|2021-04-01|       23|          C|    100629| 1099|       690|      1099|      1375|      1564|       489|        279|\n",
      "|2021-04-01|       23|          C|    100633|  899|       790|       999|      1375|      1760|      1195|        279|\n",
      "|2021-04-01|       23|          C|    100645| 1699|      1199|      1699|      1375|      1760|      1348|        279|\n",
      "|2021-04-01|       23|          C|    100651|  359|       259|       399|      1375|      1760|      1348|        279|\n",
      "|2021-04-01|       23|          C|    100658|  259|       133|       259|      1375|      1760|      1195|        279|\n",
      "|2021-04-01|       23|          C|    100755|  999|       489|     57000|      1375|      2519|      1338|        279|\n",
      "+----------+---------+-----------+----------+-----+----------+----------+----------+----------+----------+-----------+\n",
      "only showing top 20 rows\n",
      "\n"
     ]
    }
   ],
   "source": [
    "second.show()"
   ]
  },
  {
   "cell_type": "code",
   "execution_count": 34,
   "metadata": {},
   "outputs": [
    {
     "name": "stdout",
     "output_type": "stream",
     "text": [
      "+----------+---------+-----------+----------+-----+----------+----------+----------+----------+----------+-----------+\n",
      "| comp_date|seller_id|seller_name|product_id|price|min(price)|max(price)|coded_cat1|coded_cat2|coded_cat3|coded_brand|\n",
      "+----------+---------+-----------+----------+-----+----------+----------+----------+----------+----------+-----------+\n",
      "|2021-07-01|       23|          C|    100204|  649|       467|       667|      1163|      1267|      4325|        445|\n",
      "|2021-07-01|       23|          C|    100205|  799|       723|       930|      1163|      1267|      4325|        445|\n",
      "|2021-07-01|       23|          C|    100212| 1299|      1283|      1832|      1163|      1267|      4325|        445|\n",
      "|2021-07-01|       23|          C|    100404| 1299|      1095|      1590|      1375|      1760|      1410|        279|\n",
      "|2021-07-01|       23|          C|    100405| 2199|      1866|      2590|      1375|      1760|      1410|        279|\n",
      "|2021-07-01|       23|          C|    100406| 2699|      1769|      2699|      1375|      1760|      1410|        279|\n",
      "|2021-07-01|       23|          C|    100409| 4290|      3644|      5190|      1375|      1760|      1410|        279|\n",
      "|2021-07-01|       23|          C|    100421| 1599|      1313|      2090|      1375|      1760|      1410|        279|\n",
      "|2021-07-01|       23|          C|    100426| 1789|      1324|      1999|      1163|      1267|      4325|        279|\n",
      "|2021-07-01|       23|          C|    100594|  999|       785|      1190|      1375|      1760|      1410|        279|\n",
      "|2021-07-01|       23|          C|    100608|  299|       111|      2969|      1375|      1760|      1348|        279|\n",
      "|2021-07-01|       23|          C|    100611|  699|       347|       699|      1375|      1760|      1348|        279|\n",
      "|2021-07-01|       23|          C|    100612|  999|       613|       999|      1375|      1760|      1348|        279|\n",
      "|2021-07-01|       23|          C|    100621| 1099|       890|      1290|      1375|      1564|      2113|        279|\n",
      "|2021-07-01|       23|          C|    100629| 1099|       690|      1099|      1375|      1564|       489|        279|\n",
      "|2021-07-01|       23|          C|    100633|  899|       790|       999|      1375|      1760|      1195|        279|\n",
      "|2021-07-01|       23|          C|    100645| 1699|      1199|      1699|      1375|      1760|      1348|        279|\n",
      "|2021-07-01|       23|          C|    100651|  359|       259|       399|      1375|      1760|      1348|        279|\n",
      "|2021-07-01|       23|          C|    100658|  259|       133|       259|      1375|      1760|      1195|        279|\n",
      "|2021-07-01|       23|          C|    100755|  999|       489|     57000|      1375|      2519|      1338|        279|\n",
      "+----------+---------+-----------+----------+-----+----------+----------+----------+----------+----------+-----------+\n",
      "only showing top 20 rows\n",
      "\n"
     ]
    }
   ],
   "source": [
    "third.show()"
   ]
  },
  {
   "cell_type": "code",
   "execution_count": 35,
   "metadata": {},
   "outputs": [
    {
     "name": "stdout",
     "output_type": "stream",
     "text": [
      "+----------+---------+-----------+----------+-----+----------+----------+----------+----------+----------+-----------+\n",
      "| comp_date|seller_id|seller_name|product_id|price|min(price)|max(price)|coded_cat1|coded_cat2|coded_cat3|coded_brand|\n",
      "+----------+---------+-----------+----------+-----+----------+----------+----------+----------+----------+-----------+\n",
      "|2021-10-01|       23|          C|    100204|  649|       467|       667|      1163|      1267|      4325|        445|\n",
      "|2021-10-01|       23|          C|    100205|  799|       723|       930|      1163|      1267|      4325|        445|\n",
      "|2021-10-01|       23|          C|    100212| 1299|      1283|      1832|      1163|      1267|      4325|        445|\n",
      "|2021-10-01|       23|          C|    100404| 1299|      1095|      1590|      1375|      1760|      1410|        279|\n",
      "|2021-10-01|       23|          C|    100405| 2199|      1866|      2590|      1375|      1760|      1410|        279|\n",
      "|2021-10-01|       23|          C|    100406| 2699|      1769|      2699|      1375|      1760|      1410|        279|\n",
      "|2021-10-01|       23|          C|    100409| 4290|      3644|      5190|      1375|      1760|      1410|        279|\n",
      "|2021-10-01|       23|          C|    100421| 1599|      1313|      2090|      1375|      1760|      1410|        279|\n",
      "|2021-10-01|       23|          C|    100426| 1789|      1324|      1999|      1163|      1267|      4325|        279|\n",
      "|2021-10-01|       23|          C|    100594|  999|       785|      1190|      1375|      1760|      1410|        279|\n",
      "|2021-10-01|       23|          C|    100608|  299|       111|      2969|      1375|      1760|      1348|        279|\n",
      "|2021-10-01|       23|          C|    100611|  699|       347|       699|      1375|      1760|      1348|        279|\n",
      "|2021-10-01|       23|          C|    100612|  999|       613|       999|      1375|      1760|      1348|        279|\n",
      "|2021-10-01|       23|          C|    100621| 1099|       890|      1290|      1375|      1564|      2113|        279|\n",
      "|2021-10-01|       23|          C|    100629| 1099|       690|      1099|      1375|      1564|       489|        279|\n",
      "|2021-10-01|       23|          C|    100633|  899|       790|       999|      1375|      1760|      1195|        279|\n",
      "|2021-10-01|       23|          C|    100645| 1699|      1199|      1699|      1375|      1760|      1348|        279|\n",
      "|2021-10-01|       23|          C|    100651|  359|       259|       399|      1375|      1760|      1348|        279|\n",
      "|2021-10-01|       23|          C|    100658|  259|       133|       259|      1375|      1760|      1195|        279|\n",
      "|2021-10-01|       23|          C|    100755|  999|       489|     57000|      1375|      2519|      1338|        279|\n",
      "+----------+---------+-----------+----------+-----+----------+----------+----------+----------+----------+-----------+\n",
      "only showing top 20 rows\n",
      "\n"
     ]
    }
   ],
   "source": [
    "fourth.show()"
   ]
  },
  {
   "cell_type": "code",
   "execution_count": 36,
   "metadata": {},
   "outputs": [
    {
     "name": "stdout",
     "output_type": "stream",
     "text": [
      "+----------+---------+-----------+----------+-----+----------+----------+----------+----------+----------+-----------+\n",
      "| comp_date|seller_id|seller_name|product_id|price|min(price)|max(price)|coded_cat1|coded_cat2|coded_cat3|coded_brand|\n",
      "+----------+---------+-----------+----------+-----+----------+----------+----------+----------+----------+-----------+\n",
      "|2021-11-01|       23|          C|    100409| 4290|      3644|      5190|      1375|      1760|      1410|        279|\n",
      "|2021-11-01|       23|          C|    100594|  999|       785|      1190|      1375|      1760|      1410|        279|\n",
      "|2021-11-01|       23|          C|    100633|  899|       790|       999|      1375|      1760|      1195|        279|\n",
      "|2021-11-01|       23|          C|    100651|  359|       259|       399|      1375|      1760|      1348|        279|\n",
      "|2021-11-01|       23|          C|    102301| 6999|      2662|      6999|      1617|      1181|      1044|        684|\n",
      "|2021-11-01|       23|          C|    102892| 1999|      1449|      2285|      1375|      1564|      2113|        279|\n",
      "|2021-11-01|       23|          C|    102951| 2699|      2399|      3299|      1375|      1760|      1195|        279|\n",
      "|2021-11-01|       23|          C|    103113|  699|       388|       699|      1375|      1760|      1348|        279|\n",
      "|2021-11-01|       23|          C|    103233| 2399|      2190|      2790|      1354|      1498|      1854|        532|\n",
      "|2021-11-01|       23|          C|    103451| 2999|      2389|      3796|       885|      2633|      3676|        537|\n",
      "|2021-11-01|       23|          C|    103473|22999|     20603|     82997|      1676|      2832|      1282|        704|\n",
      "|2021-11-01|       23|          C|    103542| 2499|      1790|      2774|      1127|      1684|      1518|        459|\n",
      "|2021-11-01|       23|          C|    103654|52999|     44926|     61990|      1676|      2193|      1974|        704|\n",
      "|2021-11-01|       23|          C|    103751| 6999|      4999|      6999|       885|      2633|      2661|        537|\n",
      "|2021-11-01|       23|          C|    103906| 5199|      4166|      6690|      2180|       834|       953|        453|\n",
      "|2021-11-01|       23|          C|    103954| 2909|      2477|      3990|      2180|       613|       615|        537|\n",
      "|2021-11-01|       23|          C|    104105| 3799|      3198|      3799|      2259|      1714|       805|        522|\n",
      "|2021-11-01|       23|          C|    104312|31499|     25594|     34990|      1676|      2218|      2397|        367|\n",
      "|2021-11-01|       23|          C|    104369| 2199|      1399|      2690|      2259|      1714|       795|        253|\n",
      "|2021-11-01|       23|          C|    104761| 2599|      1890|      2999|      2180|       613|       615|        691|\n",
      "+----------+---------+-----------+----------+-----+----------+----------+----------+----------+----------+-----------+\n",
      "only showing top 20 rows\n",
      "\n"
     ]
    }
   ],
   "source": [
    "november.show()"
   ]
  },
  {
   "cell_type": "markdown",
   "metadata": {},
   "source": [
    "# Switch to python to make some price manipulation"
   ]
  },
  {
   "cell_type": "code",
   "execution_count": 37,
   "metadata": {},
   "outputs": [
    {
     "data": {
      "text/plain": [
       "<bound method SparkSession.stop of <pyspark.sql.session.SparkSession object at 0x000001E1B854E380>>"
      ]
     },
     "execution_count": 37,
     "metadata": {},
     "output_type": "execute_result"
    }
   ],
   "source": [
    "spark.stop"
   ]
  },
  {
   "cell_type": "code",
   "execution_count": 38,
   "metadata": {},
   "outputs": [],
   "source": [
    "import pandas as pd\n",
    "import numpy as np\n",
    "import matplotlib.pyplot as plt\n",
    "import seaborn as sns"
   ]
  },
  {
   "attachments": {},
   "cell_type": "markdown",
   "metadata": {},
   "source": [
    "Transform the spark DataFrame into pandas"
   ]
  },
  {
   "cell_type": "code",
   "execution_count": 39,
   "metadata": {},
   "outputs": [],
   "source": [
    "pdfirst = first.toPandas()\n",
    "pdsecond = second.toPandas()\n",
    "pdthird = third.toPandas()\n",
    "pdfourth = fourth.toPandas()\n",
    "pdnov = november.toPandas()"
   ]
  },
  {
   "cell_type": "code",
   "execution_count": 40,
   "metadata": {},
   "outputs": [],
   "source": [
    "#compute the price change for each products for each specific seller across time\n",
    "pdfirst['price_change'] = pdfirst.groupby([\"product_id\",'seller_id'])['price'].diff()\n",
    "pdsecond['price_change'] = pdsecond.groupby([\"product_id\",'seller_id'])['price'].diff()\n",
    "pdthird['price_change'] = pdthird.groupby([\"product_id\",'seller_id'])['price'].diff()\n",
    "pdfourth['price_change'] = pdfourth.groupby([\"product_id\",'seller_id'])['price'].diff()\n",
    "pdnov['price_change'] = pdnov.groupby([\"product_id\",'seller_id'])['price'].diff()"
   ]
  },
  {
   "cell_type": "code",
   "execution_count": 41,
   "metadata": {},
   "outputs": [],
   "source": [
    "#computing the log of price_change\n",
    "pdfirst['price_change_log'] = np.sign(pdfirst['price_change'])*(np.log(np.abs(pdfirst['price_change'] + 1.01)))\n",
    "pdsecond['price_change_log'] = np.sign(pdsecond['price_change'])*(np.log(np.abs(pdsecond['price_change'] + 1.01)))\n",
    "pdthird['price_change_log'] = np.sign(pdthird['price_change'])*(np.log(np.abs(pdthird['price_change'] + 1.01)))\n",
    "pdfourth['price_change_log'] = np.sign(pdfourth['price_change'])*(np.log(np.abs(pdfourth['price_change'] + 1.01)))\n",
    "pdnov['price_change_log'] = np.sign(pdnov['price_change'])*(np.log(np.abs(pdnov['price_change'] + 1.01)))"
   ]
  },
  {
   "cell_type": "code",
   "execution_count": 42,
   "metadata": {},
   "outputs": [],
   "source": [
    "#computing the price variance\n",
    "pdfirst['price_change_var'] = pdfirst.groupby([\"product_id\",'seller_id'])['price_change'].transform('var')\n",
    "pdsecond['price_change_var'] = pdsecond.groupby([\"product_id\",'seller_id'])['price_change'].transform('var')\n",
    "pdthird['price_change_var'] = pdthird.groupby([\"product_id\",'seller_id'])['price_change'].transform('var')\n",
    "pdfourth['price_change_var'] = pdfourth.groupby([\"product_id\",'seller_id'])['price_change'].transform('var')\n",
    "pdnov['price_change_var'] = pdnov.groupby([\"product_id\",'seller_id'])['price_change'].transform('var')"
   ]
  },
  {
   "cell_type": "code",
   "execution_count": 43,
   "metadata": {},
   "outputs": [],
   "source": [
    "# remove all the product of a specific seller with price_change variance = 0\n",
    "pdfirst = pdfirst[pdfirst['price_change_var']!=0]\n",
    "pdsecond = pdsecond[pdsecond['price_change_var']!=0]\n",
    "pdthird = pdthird[pdthird['price_change_var']!=0]\n",
    "pdfourth = pdfourth[pdfourth['price_change_var']!=0]\n",
    "pdnov = pdnov[pdnov['price_change_var']!=0]"
   ]
  },
  {
   "cell_type": "code",
   "execution_count": 44,
   "metadata": {},
   "outputs": [],
   "source": [
    "#First quarter\n",
    "\n",
    "#remove the product not selled by 24\n",
    "seller_list = pdfirst.groupby('product_id')['seller_id'].apply(set).reset_index(name='seller_list')\n",
    "seller_list = seller_list[seller_list['seller_list'].map(len) > 1]\n",
    "not_24=seller_list[seller_list['seller_list'].map(lambda x: 24 not in x)]\n",
    "pdfirst = pdfirst[~pdfirst['product_id'].isin(not_24['product_id'])]\n",
    "\n",
    "#remove the product with one seller\n",
    "seller_list_new = pdfirst.groupby('product_id')['seller_id'].apply(set).reset_index(name='seller_list')\n",
    "seller_list_new = seller_list_new[seller_list_new['seller_list'].map(len) > 1]\n",
    "pdfirst = pdfirst[pdfirst['product_id'].isin(seller_list_new['product_id'])]"
   ]
  },
  {
   "cell_type": "code",
   "execution_count": 45,
   "metadata": {},
   "outputs": [],
   "source": [
    "#Second quarter\n",
    "\n",
    "#remove the product not selled by 24\n",
    "seller_list = pdsecond.groupby('product_id')['seller_id'].apply(set).reset_index(name='seller_list')\n",
    "seller_list = seller_list[seller_list['seller_list'].map(len) > 1]\n",
    "not_24=seller_list[seller_list['seller_list'].map(lambda x: 24 not in x)]\n",
    "pdsecond = pdsecond[~pdsecond['product_id'].isin(not_24['product_id'])]\n",
    "\n",
    "#remove the product with one seller\n",
    "seller_list_new = pdsecond.groupby('product_id')['seller_id'].apply(set).reset_index(name='seller_list')\n",
    "seller_list_new = seller_list_new[seller_list_new['seller_list'].map(len) > 1]\n",
    "pdsecond = pdsecond[pdsecond['product_id'].isin(seller_list_new['product_id'])]"
   ]
  },
  {
   "cell_type": "code",
   "execution_count": 46,
   "metadata": {},
   "outputs": [],
   "source": [
    "#Third quarter\n",
    "\n",
    "#remove the product not selled by 24\n",
    "seller_list = pdthird.groupby('product_id')['seller_id'].apply(set).reset_index(name='seller_list')\n",
    "seller_list = seller_list[seller_list['seller_list'].map(len) > 1]\n",
    "not_24=seller_list[seller_list['seller_list'].map(lambda x: 24 not in x)]\n",
    "pdthird = pdthird[~pdthird['product_id'].isin(not_24['product_id'])]\n",
    "\n",
    "#remove the product with one seller\n",
    "seller_list_new = pdthird.groupby('product_id')['seller_id'].apply(set).reset_index(name='seller_list')\n",
    "seller_list_new = seller_list_new[seller_list_new['seller_list'].map(len) > 1]\n",
    "pdthird = pdthird[pdthird['product_id'].isin(seller_list_new['product_id'])]"
   ]
  },
  {
   "cell_type": "code",
   "execution_count": 47,
   "metadata": {},
   "outputs": [],
   "source": [
    "#Fourth quarter\n",
    "\n",
    "#remove the product not selled by 24\n",
    "seller_list = pdfourth.groupby('product_id')['seller_id'].apply(set).reset_index(name='seller_list')\n",
    "seller_list = seller_list[seller_list['seller_list'].map(len) > 1]\n",
    "not_24=seller_list[seller_list['seller_list'].map(lambda x: 24 not in x)]\n",
    "pdfourth = pdfourth[~pdfourth['product_id'].isin(not_24['product_id'])]\n",
    "\n",
    "#remove the product with one seller\n",
    "seller_list_new = pdfourth.groupby('product_id')['seller_id'].apply(set).reset_index(name='seller_list')\n",
    "seller_list_new = seller_list_new[seller_list_new['seller_list'].map(len) > 1]\n",
    "pdfourth = pdfourth[pdfourth['product_id'].isin(seller_list_new['product_id'])]"
   ]
  },
  {
   "cell_type": "code",
   "execution_count": 48,
   "metadata": {},
   "outputs": [],
   "source": [
    "#November\n",
    "\n",
    "#remove the product not selled by 24\n",
    "seller_list = pdnov.groupby('product_id')['seller_id'].apply(set).reset_index(name='seller_list')\n",
    "seller_list = seller_list[seller_list['seller_list'].map(len) > 1]\n",
    "not_24=seller_list[seller_list['seller_list'].map(lambda x: 24 not in x)]\n",
    "pdnov = pdnov[~pdnov['product_id'].isin(not_24['product_id'])]\n",
    "\n",
    "#remove the product with one seller\n",
    "seller_list_new = pdnov.groupby('product_id')['seller_id'].apply(set).reset_index(name='seller_list')\n",
    "seller_list_new = seller_list_new[seller_list_new['seller_list'].map(len) > 1]\n",
    "pdnov = pdnov[pdnov['product_id'].isin(seller_list_new['product_id'])]"
   ]
  },
  {
   "cell_type": "code",
   "execution_count": 49,
   "metadata": {},
   "outputs": [],
   "source": [
    "# print the dataset for the analysis\n",
    "\n",
    "pdfirst.to_csv('dataset/first_quarter.csv')\n",
    "pdsecond.to_csv('dataset/second_quarter.csv')\n",
    "pdthird.to_csv('dataset/third_quarter.csv')\n",
    "pdfourth.to_csv('dataset/fourth_quarter.csv')\n",
    "pdnov.to_csv('dataset/november.csv')"
   ]
  }
 ],
 "metadata": {
  "kernelspec": {
   "display_name": "Python 3.10.0 ('bigdata')",
   "language": "python",
   "name": "python3"
  },
  "language_info": {
   "codemirror_mode": {
    "name": "ipython",
    "version": 3
   },
   "file_extension": ".py",
   "mimetype": "text/x-python",
   "name": "python",
   "nbconvert_exporter": "python",
   "pygments_lexer": "ipython3",
   "version": "3.10.0"
  },
  "orig_nbformat": 4,
  "vscode": {
   "interpreter": {
    "hash": "33024b6e23885e09af5b5a1568ae4b90276d7c01e896fd115cac0e8c835dfddf"
   }
  }
 },
 "nbformat": 4,
 "nbformat_minor": 2
}
